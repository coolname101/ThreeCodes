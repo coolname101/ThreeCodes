{
 "cells": [
  {
   "cell_type": "markdown",
   "id": "86497532",
   "metadata": {
    "slideshow": {
     "slide_type": "slide"
    }
   },
   "source": [
    "AN OVERVIEW OF PYTHON. WITH A CODING DEMONSTRATION\n",
    "A PRESENTATION BY EDSA ACCELERATOR TEAM 1\n",
    "DATE: SEPTEMBER 2022\n",
    "MEMBERS\n",
    "Emmanuel Oraegbu\n",
    "Harry Mwangi\n",
    "Honey Zwane\n",
    "Itumeleng Kesebonye\n",
    "Josiah Aramide"
   ]
  },
  {
   "cell_type": "markdown",
   "id": "c141b0df",
   "metadata": {
    "slideshow": {
     "slide_type": "slide"
    }
   },
   "source": [
    "(3-4 minutes.)\n",
    "Today we would like to present to you the wonders of a programming language called python. Assuming you got into the presentation by mistake or you simply stumbled upon this presentation. Feel free. You are in safe hands. \n",
    "Python is the most used programming language. Used by over 80% of data scientist. As for programming, programming is simply how to solve real life problems using algorithms. Python is a high-level general-purpose programming language, which unlike its counterparts, it is an interpreted language and not a compiled one, thus making it rather easy to learn and deploy. We are here to showcase how convenient python is and the relative easiness to learn it by showing our progress from the past few weeks of dealing with python.\n",
    "*variables. \n",
    "*different data types. \n",
    "showcase challenges beginners face when they start coding- * calculator \n",
    "inputs outputs for "
   ]
  },
  {
   "cell_type": "markdown",
   "id": "b87bcaaa",
   "metadata": {
    "slideshow": {
     "slide_type": "subslide"
    }
   },
   "source": [
    "to try showcasing some useful programs that can be written using python for eveyrday use. we have a code below which removes duplicates from a list. for people like data scientist who deal with mountains of data on a project, this code comes in very handy when you are cleaning your data. for example, say we have been presented with data from one of superiors. said data anonymously depicts the students ratings of their pod leaders andomly pulled from the accelarator cohort."
   ]
  },
  {
   "cell_type": "code",
   "execution_count": 16,
   "id": "48f4ae8b",
   "metadata": {
    "slideshow": {
     "slide_type": "slide"
    }
   },
   "outputs": [],
   "source": [
    "def duplicates(a):\n",
    "    item_and_position = {}\n",
    "    # First we get the duplicated items and their index. only the first occuring instance of the duplicated item will not be \n",
    "    #counted.\n",
    "    duplicates = [(item, index) for index, item in enumerate(a) if item in a[:index]]\n",
    "    \n",
    "    # Next we store the item as key and the index or indices where they occured in the list as values in a dictionary\n",
    "    for duplicate in duplicates:\n",
    "        #iterate through the duplicates\n",
    "        if duplicate[0] in item_and_position:\n",
    "            item_and_position[duplicate[0]].append(duplicate[1])\n",
    "            #add the index to the dictionary item_and_position if the dictionary already contains the item\n",
    "        else:\n",
    "            item_and_position[duplicate[0]] = [duplicate[1]]\n",
    "            #or create it if it doesn't\n",
    "    if not item_and_position:\n",
    "        return('there are no duplicates found in this list')\n",
    "    else:\n",
    "        for key, value in item_and_position.items():\n",
    "            item = 'word'\n",
    "            num_of_times = 'times'\n",
    "            if type(key) == int or type(key)== float:\n",
    "                item = 'number'\n",
    "            if len(value)==1:\n",
    "                num_of_times = 'time'\n",
    "            print('The {} {''} is duplicated {} {} in the list. The duplicates occur at index'.format(item, key, len(value), num_of_times), *value, sep=', ')\n",
    "        return "
   ]
  },
  {
   "cell_type": "markdown",
   "id": "a33832f3",
   "metadata": {
    "slideshow": {
     "slide_type": "subslide"
    }
   },
   "source": [
    "python offers as a programming language offers us ways to be creative with our work by allowing a lot of automation of tasks. as best exhibited by code above. now other ways python helps programmers is allowing you to write code that simply allows you to be lazy. like this simple calculater program below. "
   ]
  },
  {
   "cell_type": "code",
   "execution_count": 10,
   "id": "e5d7b94c",
   "metadata": {
    "slideshow": {
     "slide_type": "slide"
    }
   },
   "outputs": [],
   "source": [
    "# A simple Python calculator program using the Tkinter GUI\n",
    "\n",
    "# import everything from tkinter\n",
    "from tkinter import *\n",
    "\n",
    "#for the calculator to work we have to store inputs as a variable which will then be evaluated at the end.\n",
    "#the input is simple the mathematical expression of the problem\n",
    "# declare the problem variable\n",
    "problem = \"\"\n",
    "\n",
    "\n",
    "# create a Function to update problem statement or expression in the text entry box\n",
    "\n",
    "def button_pressed(num):\n",
    "\t# point to the global variable called problem. this would contain all the user input for evaluation.\n",
    "\tglobal problem\n",
    "\n",
    "\t# continuous concatenation of string as user adds more levels to the arithmetics\n",
    "\tproblem = problem + str(num)\n",
    "\n",
    "\t# update the problem by using set method\n",
    "\tequation.set(problem)\n",
    "\n",
    "\n",
    "# Function to evaluate the final problem\n",
    "def answer():\n",
    "\t# User try and except statement handle errors\n",
    "\n",
    "\ttry:\n",
    "\n",
    "\t\tglobal problem\n",
    "\n",
    "\t\t# eval function evaluate the problem\n",
    "\t\t# and str function convert the result\n",
    "\t\t# into string\n",
    "\t\ttotal = str(eval(problem))\n",
    "\n",
    "\t\tequation.set(total)\n",
    "\n",
    "\t\t# initialize the problem variable\n",
    "\t\t# by empty string\n",
    "\t\tproblem = \"\"\n",
    "\n",
    "\t# if an error is generated the error is handled by the except block\n",
    "\texcept:\n",
    "\n",
    "\t\tequation.set(\" error! invalid operation \")\n",
    "\t\tproblem = \"\"\n",
    "\n",
    "\n",
    "# Create a function to clear the contents of the display\n",
    "def clear():\n",
    "\tglobal problem\n",
    "\tproblem = \"\"\n",
    "\tequation.set(\"\")\n",
    "\n",
    "\n",
    "# Driver code gives this program a different behviour depending on whether it is being run by a user or a program\n",
    "if __name__ == \"__main__\":\n",
    "\t# create a calculator GUI window by calling the Tk() module\n",
    "\tgui = Tk()\n",
    "\n",
    "\n",
    "\t# set the background colour of the calculator GUI window\n",
    "\tgui.configure(background=\"White\")\n",
    "\n",
    "\t# set the title of the calculator GUI window\n",
    "\tgui.title(\"EDSA TEAM_1\")\n",
    "\n",
    "\t# set the configuration of GUI window\n",
    "\tgui.geometry(\"250x310\")\n",
    "\n",
    "\t# StringVar() is the variable class\n",
    "\t# we create an instance of this class\n",
    "\tequation = StringVar()\n",
    "\n",
    "\t# create the text entry box for showing the problem and displaying the solution.\n",
    "\tdisplay_field = Entry(gui, textvariable=equation, font=(\"default\",15))\n",
    "\t\n",
    "\n",
    "\t# grid method is used for giving a table-like structure to buttons and widgets .\n",
    "\tdisplay_field.grid(columnspan=6, ipadx=70)\n",
    "\n",
    "\t# create Buttons and place at a particular\n",
    "\t# location inside the root window .\n",
    "\t# when user presses the button, the command or\n",
    "\t# function affiliated to that button is executed .\n",
    "\tbutton1 = Button(gui, text=' 1 ', fg='black', bg='white',\n",
    "\t\t\t\t\tcommand=lambda: button_pressed(1), height=2, width=7)\n",
    "\tbutton1.grid(row=3, column=0)\n",
    "\n",
    "\tbutton2 = Button(gui, text=' 2 ', fg='black', bg='white',\n",
    "\t\t\t\t\tcommand=lambda: button_pressed(2), height=2, width=7)\n",
    "\tbutton2.grid(row=3, column=1)\n",
    "\n",
    "\tbutton3 = Button(gui, text=' 3 ', fg='black', bg='white',\n",
    "\t\t\t\t\tcommand=lambda: button_pressed(3), height=2, width=7)\n",
    "\tbutton3.grid(row=3, column=2)\n",
    "\n",
    "\tbutton4 = Button(gui, text=' 4 ', fg='black', bg='white',\n",
    "\t\t\t\t\tcommand=lambda: button_pressed(4), height=2, width=7)\n",
    "\tbutton4.grid(row=4, column=0)\n",
    "\n",
    "\tbutton5 = Button(gui, text=' 5 ', fg='black', bg='white',\n",
    "\t\t\t\t\tcommand=lambda: button_pressed(5), height=2, width=7)\n",
    "\tbutton5.grid(row=4, column=1)\n",
    "\n",
    "\tbutton6 = Button(gui, text=' 6 ', fg='black', bg='white',\n",
    "\t\t\t\t\tcommand=lambda: button_pressed(6), height=2, width=7)\n",
    "\tbutton6.grid(row=4, column=2)\n",
    "\n",
    "\tbutton7 = Button(gui, text=' 7 ', fg='black', bg='white',\n",
    "\t\t\t\t\tcommand=lambda: button_pressed(7), height=2, width=7)\n",
    "\tbutton7.grid(row=5, column=0)\n",
    "\n",
    "\tbutton8 = Button(gui, text=' 8 ', fg='black', bg='white',\n",
    "\t\t\t\t\tcommand=lambda: button_pressed(8), height=2, width=7)\n",
    "\tbutton8.grid(row=5, column=1)\n",
    "\n",
    "\tbutton9 = Button(gui, text=' 9 ', fg='black', bg='white',\n",
    "\t\t\t\t\tcommand=lambda: button_pressed(9), height=2, width=7)\n",
    "\tbutton9.grid(row=5, column=2)\n",
    "\n",
    "\tbutton0 = Button(gui, text=' 0 ', fg='black', bg='white',\n",
    "\t\t\t\t\tcommand=lambda: button_pressed(0), height=2, width=7)\n",
    "\tbutton0.grid(row=6, column=1)\n",
    "\n",
    "\tplus = Button(gui, text=' + ', fg='black', bg='white',\n",
    "\t\t\t\tcommand=lambda: button_pressed(\"+\"), height=2, width=7)\n",
    "\tplus.grid(row=7, column=0)\n",
    "\n",
    "\tminus = Button(gui, text=' - ', fg='black', bg='white',\n",
    "\t\t\t\tcommand=lambda: button_pressed(\"-\"), height=2, width=7)\n",
    "\tminus.grid(row=7, column=1)\n",
    "\n",
    "\tmultiply = Button(gui, text=' x ', fg='black', bg='white',\n",
    "\t\t\t\t\tcommand=lambda: button_pressed(\"*\"), height=2, width=7)\n",
    "\tmultiply.grid(row=7, column=2)\n",
    "\n",
    "\tdivide = Button(gui, text=' / ', fg='black', bg='white',\n",
    "\t\t\t\t\tcommand=lambda: button_pressed(\"/\"), height=2, width=7)\n",
    "\tdivide.grid(row=8, column=0)\n",
    "\n",
    "\tequal = Button(gui, text=' = ', fg='black', bg='white',\n",
    "\t\t\t\tcommand=answer, height=2, width=7)\n",
    "\tequal.grid(row=6, column=2)\n",
    "\n",
    "\tclear = Button(gui, text='Clear', fg='black', bg='white',\n",
    "\t\t\t\tcommand=clear, height=2, width=7)\n",
    "\tclear.grid(row=9, column=0)\n",
    "\n",
    "\tDecimal= Button(gui, text='.', fg='black', bg='white',\n",
    "\t\t\t\t\tcommand=lambda: button_pressed('.'), height=2, width=7)\n",
    "\tDecimal.grid(row=6, column=0)\n",
    "\tparenthesis_left = Button(gui, text ='(', fg='black', bg='white',\n",
    "                                  command=lambda:button_pressed('('), height=2, width=7)\n",
    "\tparenthesis_left.grid(row = 8, column =1)\n",
    "\tparenthesis_right = Button(gui, text =')', fg='black', bg='white',\n",
    "                                  command=lambda:button_pressed(')'), height=2, width=7)\n",
    "\tparenthesis_right.grid(row = 8, column =2)\n",
    "\t# start the GUI\n",
    "\tgui.mainloop()"
   ]
  },
  {
   "cell_type": "code",
   "execution_count": null,
   "id": "e07171d7",
   "metadata": {},
   "outputs": [],
   "source": []
  },
  {
   "cell_type": "markdown",
   "id": "29026648",
   "metadata": {
    "slideshow": {
     "slide_type": "subslide"
    }
   },
   "source": [
    "and sometimes just for bragging rites to say you can write code. you can simply display your skills by showing your friends this cool code below which simply tells a small preloaded story. this code primarily focuses on the input and output function of python and makes use of 3 variables mentioned above. namely string, interger and float."
   ]
  },
  {
   "cell_type": "code",
   "execution_count": null,
   "id": "481e3c3d",
   "metadata": {
    "slideshow": {
     "slide_type": "slide"
    }
   },
   "outputs": [],
   "source": [
    "name = input(\"Enter your name:\")\n",
    "best_friend = input(\"Enter your best friend's name:\")\n",
    "sibling = input(\"Enter your sibling's name:\")\n",
    "favourite_sport = input(\"Enter your favourite sport:\")\n",
    "favourite_season = input(\"Enter your preferred season:\")\n",
    "\n",
    "story = (\"Three retirees, each with a hearing loss, were playing \\\n",
    "\" + favourite_sport + \" one fine \" + favourite_season + \" day.\" + sibling + \" \\\n",
    "remarked to \" + best_friend + \", 'Windy, isn't it?' 'No', \" + best_friend + \" replied,\\\n",
    "'it's Thursday'. \" + name + \" chimed in, 'So am I. Let's have a beer.'\")\n",
    "\n",
    "print(story)"
   ]
  },
  {
   "cell_type": "markdown",
   "id": "d753033e",
   "metadata": {
    "slideshow": {
     "slide_type": "subslide"
    }
   },
   "source": [
    "since its development in 1991 python has made a lot of lives easier as indicated above by the codes. it "
   ]
  },
  {
   "cell_type": "code",
   "execution_count": null,
   "id": "fdc16252",
   "metadata": {},
   "outputs": [],
   "source": []
  },
  {
   "cell_type": "code",
   "execution_count": null,
   "id": "6e27e8a4",
   "metadata": {},
   "outputs": [],
   "source": []
  }
 ],
 "metadata": {
  "celltoolbar": "Slideshow",
  "kernelspec": {
   "display_name": "Python 3 (ipykernel)",
   "language": "python",
   "name": "python3"
  },
  "language_info": {
   "codemirror_mode": {
    "name": "ipython",
    "version": 3
   },
   "file_extension": ".py",
   "mimetype": "text/x-python",
   "name": "python",
   "nbconvert_exporter": "python",
   "pygments_lexer": "ipython3",
   "version": "3.9.12"
  }
 },
 "nbformat": 4,
 "nbformat_minor": 5
}
