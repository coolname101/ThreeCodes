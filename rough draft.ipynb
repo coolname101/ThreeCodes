{
 "cells": [
  {
   "cell_type": "code",
   "execution_count": null,
   "id": "6190703b",
   "metadata": {},
   "outputs": [],
   "source": []
  },
  {
   "cell_type": "markdown",
   "id": "c141b0df",
   "metadata": {},
   "source": [
    "(3-4 minutes.)\n",
    "Today we would like to present to you the wonders of a programming language called python. Assuming you got into the presentation by mistake or you simply stumbled upon this presentation. Feel free. You are in safe hands. \n",
    "Python is the most used programming language. Used by over 80% of data scientist. As for programming, programming is simply how to solve real life problems using algorithms. Python is a high-level general-purpose programming language, which unlike its counterparts, it is an interpreted language and not a compiled onethus making it rather easy to learn and deploy. We are here to showcase how convenient python is and the relative easiness to learn it by showing our progress from the past few weeks of dealing with python."
   ]
  },
  {
   "cell_type": "markdown",
   "id": "b87bcaaa",
   "metadata": {},
   "source": [
    "to try showcasing some useful programs that can be written using python for eveyrday use. we have a code below which removes duplicates from a list. "
   ]
  },
  {
   "cell_type": "code",
   "execution_count": null,
   "id": "48f4ae8b",
   "metadata": {},
   "outputs": [],
   "source": [
    "def duplicates(a):\n",
    "    item_and_position = {}\n",
    "    # First we get the duplicated items and their index. only the first occuring instance of the duplicated item will not be \n",
    "    #counted.\n",
    "    duplicates = [(item, index) for index, item in enumerate(a) if item in a[:index]]\n",
    "    \n",
    "    # Next we store the item as key and the index or indices where they occured in the list as values in a dictionary\n",
    "    for duplicate in duplicates:\n",
    "        #iterate through the duplicates\n",
    "        if duplicate[0] in item_and_position:\n",
    "            item_and_position[duplicate[0]].append(duplicate[1])\n",
    "            #add the index to the dictionary item_and_position if the dictionary already contains the item\n",
    "        else:\n",
    "            item_and_position[duplicate[0]] = [duplicate[1]]\n",
    "            #or create it if it doesn't\n",
    "    if not item_and_position:\n",
    "        return('there are no duplicates found in this list')\n",
    "    else:\n",
    "        for key, value in item_and_position.items():\n",
    "            item = 'word'\n",
    "            num_of_times = 'times'\n",
    "            if type(key) == int or type(key)== float:\n",
    "                item = 'number'\n",
    "            if len(value)==1:\n",
    "                num_of_times = 'time'\n",
    "            print('The {} {''} is duplicated {} {} in the list. The duplicates occur at index'.format(item, key, len(value), num_of_times), *value, sep=', ')\n",
    "        return "
   ]
  },
  {
   "cell_type": "markdown",
   "id": "a33832f3",
   "metadata": {},
   "source": [
    "python offers as a programming language offers us ways to be creative with our work by allowing a lot of automation of tasks. as best exhibited by code above. now other ways python helps programmers is allowing you to write code that simply allows you to be lazy. like this simple calculater program below. "
   ]
  },
  {
   "cell_type": "markdown",
   "id": "92fc3632",
   "metadata": {},
   "source": [
    "insert code 1"
   ]
  },
  {
   "cell_type": "markdown",
   "id": "29026648",
   "metadata": {},
   "source": [
    "and sometimes just for bragging rites to say you can write code. you can simply display your skills by showing your friends this cool code below which does (insert light comment)"
   ]
  },
  {
   "cell_type": "markdown",
   "id": "351a7bed",
   "metadata": {},
   "source": [
    "insert code 3"
   ]
  },
  {
   "cell_type": "markdown",
   "id": "d753033e",
   "metadata": {},
   "source": [
    "since its development in 1991 python has made a lot of lives easier as indicated above by the codes. it "
   ]
  },
  {
   "cell_type": "code",
   "execution_count": null,
   "id": "22670289",
   "metadata": {},
   "outputs": [],
   "source": []
  }
 ],
 "metadata": {
  "kernelspec": {
   "display_name": "Python 3 (ipykernel)",
   "language": "python",
   "name": "python3"
  },
  "language_info": {
   "codemirror_mode": {
    "name": "ipython",
    "version": 3
   },
   "file_extension": ".py",
   "mimetype": "text/x-python",
   "name": "python",
   "nbconvert_exporter": "python",
   "pygments_lexer": "ipython3",
   "version": "3.9.12"
  }
 },
 "nbformat": 4,
 "nbformat_minor": 5
}
