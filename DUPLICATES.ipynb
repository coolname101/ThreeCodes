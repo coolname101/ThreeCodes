{
 "cells": [
  {
   "cell_type": "code",
   "execution_count": 1,
   "id": "e10a9088",
   "metadata": {},
   "outputs": [],
   "source": [
    "def duplicates(a):\n",
    "    item_and_position = {}\n",
    "    # First we get the duplicated items and their index. only the first occuring instance of the duplicated item will not be \n",
    "    #counted.\n",
    "    duplicates = [(item, index) for index, item in enumerate(a) if item in a[:index]]\n",
    "    \n",
    "    # Next we store the item as key and the index or indices where they occured in the list as values in a dictionary\n",
    "    for duplicate in duplicates:\n",
    "        #iterate through the duplicates\n",
    "        if duplicate[0] in item_and_position:\n",
    "            item_and_position[duplicate[0]].append(duplicate[1])\n",
    "            #add the index to the dictionary item_and_position if the dictionary already contains the item\n",
    "        else:\n",
    "            item_and_position[duplicate[0]] = [duplicate[1]]\n",
    "            #or create it if it doesn't\n",
    "    if not item_and_position:\n",
    "        return('there are no duplicates found in this list')\n",
    "    else:\n",
    "        for key, value in item_and_position.items():\n",
    "            item = 'word'\n",
    "            num_of_times = 'times'\n",
    "            if type(key) == int or type(key)== float:\n",
    "                item = 'number'\n",
    "            if len(value)==1:\n",
    "                num_of_times = 'time'\n",
    "            print('The {} {''} is duplicated {} {} in the list. The duplicates occur at index'.format(item, key, len(value), num_of_times), *value, sep=', ')\n",
    "        return "
   ]
  },
  {
   "cell_type": "code",
   "execution_count": null,
   "id": "96dfd7f3",
   "metadata": {},
   "outputs": [],
   "source": []
  }
 ],
 "metadata": {
  "kernelspec": {
   "display_name": "Python 3 (ipykernel)",
   "language": "python",
   "name": "python3"
  },
  "language_info": {
   "codemirror_mode": {
    "name": "ipython",
    "version": 3
   },
   "file_extension": ".py",
   "mimetype": "text/x-python",
   "name": "python",
   "nbconvert_exporter": "python",
   "pygments_lexer": "ipython3",
   "version": "3.9.12"
  }
 },
 "nbformat": 4,
 "nbformat_minor": 5
}
